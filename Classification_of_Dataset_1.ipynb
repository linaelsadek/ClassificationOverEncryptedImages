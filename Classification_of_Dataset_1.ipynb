{
  "nbformat": 4,
  "nbformat_minor": 0,
  "metadata": {
    "colab": {
      "name": "Classification of Dataset 1.ipynb",
      "provenance": [],
      "collapsed_sections": [],
      "authorship_tag": "ABX9TyPSlF82GzvtxTrd97f0K/uK",
      "include_colab_link": true
    },
    "kernelspec": {
      "name": "python3",
      "display_name": "Python 3"
    }
  },
  "cells": [
    {
      "cell_type": "markdown",
      "metadata": {
        "id": "view-in-github",
        "colab_type": "text"
      },
      "source": [
        "<a href=\"https://colab.research.google.com/github/linaelsadek/ClassificationOverEncryptedImages/blob/main/Classification_of_Dataset_1.ipynb\" target=\"_parent\"><img src=\"https://colab.research.google.com/assets/colab-badge.svg\" alt=\"Open In Colab\"/></a>"
      ]
    },
    {
      "cell_type": "code",
      "metadata": {
        "id": "oI4TmqOrx6jF"
      },
      "source": [
        "!pip install tensorflow"
      ],
      "execution_count": null,
      "outputs": []
    },
    {
      "cell_type": "code",
      "metadata": {
        "colab": {
          "base_uri": "https://localhost:8080/"
        },
        "id": "2PnD7g-9zDm5",
        "outputId": "d99d727a-65cc-4359-ab4a-0b88f5965437"
      },
      "source": [
        "import tensorflow as tf\r\n",
        "print(tf.__version__)"
      ],
      "execution_count": 1,
      "outputs": [
        {
          "output_type": "stream",
          "text": [
            "2.4.1\n"
          ],
          "name": "stdout"
        }
      ]
    },
    {
      "cell_type": "code",
      "metadata": {
        "id": "bu-WiD3VTsG8"
      },
      "source": [
        "#Load libraries\r\n",
        "import torchvision\r\n",
        "import torch\r\n",
        "import matplotlib.pyplot as plt\r\n",
        "import numpy as np\r\n",
        "\r\n",
        "from torchvision import datasets, transforms\r\n",
        "from sklearn.neighbors import KNeighborsClassifier\r\n",
        "from sklearn.metrics import classification_report"
      ],
      "execution_count": 6,
      "outputs": []
    },
    {
      "cell_type": "code",
      "metadata": {
        "colab": {
          "base_uri": "https://localhost:8080/"
        },
        "id": "VpmN2dECLfVA",
        "outputId": "2f6f8d69-46da-43ae-d299-db312e8ce273"
      },
      "source": [
        "#mount google drive\r\n",
        "\r\n",
        "from google.colab import drive\r\n",
        "drive.mount('/content/drive')\r\n"
      ],
      "execution_count": 3,
      "outputs": [
        {
          "output_type": "stream",
          "text": [
            "Mounted at /content/drive\n"
          ],
          "name": "stdout"
        }
      ]
    },
    {
      "cell_type": "code",
      "metadata": {
        "id": "bFWos1DEMrlQ"
      },
      "source": [
        "#import data\r\n",
        "train_data_path = '/content/drive/MyDrive/CAS 771 - Big Data/Dataset 1/train/'\r\n",
        "validate_data_path = '/content/drive/MyDrive/CAS 771 - Big Data/Dataset 1/validate/'\r\n",
        "test_data_path = '/content/drive/MyDrive/CAS 771 - Big Data/Dataset 1/test/'"
      ],
      "execution_count": 17,
      "outputs": []
    },
    {
      "cell_type": "code",
      "metadata": {
        "id": "PJEQTK7PRVXG"
      },
      "source": [
        "# transformations to be applied on images\r\n",
        "#normalize pixel values\r\n",
        "transform = transforms.Compose([transforms.ToTensor(),\r\n",
        "                              transforms.Normalize((0.5,), (0.5,)),\r\n",
        "                              ])\r\n",
        "\r\n",
        "# defining the training and testing set\r\n",
        "trainset = datasets.ImageFolder(train_data_path, transform=transform)\r\n",
        "#Note: for now, validation set is 2% of the training set, but have not deleted the images from\r\n",
        "#training, so there is 20-22 image overlap until we're sure we want to go with this way\r\n",
        "validateset = datasets.ImageFolder(validate_data_path, transform=transform) \r\n",
        "testset = datasets.ImageFolder(test_data_path, transform=transform)\r\n",
        "\r\n",
        "#print(trainset)\r\n",
        "#print(testset)"
      ],
      "execution_count": 18,
      "outputs": []
    },
    {
      "cell_type": "code",
      "metadata": {
        "id": "MGDszV64bqCW"
      },
      "source": [
        "# defining datasets into iterable batches of defined sizes\r\n",
        "# we decided to have the entire set be defined in 1 batch since breaking the dataset into\r\n",
        "# smaller batches required us to use many loops throughout the process that ultimately impacted performance \r\n",
        "trainSize = len(trainset)\r\n",
        "validateSize = len(validateset)\r\n",
        "testSize = len(testset)\r\n",
        "\r\n",
        "trainloader = torch.utils.data.DataLoader(trainset, batch_size=trainSize, shuffle=True)\r\n",
        "validateloader = torch.utils.data.DataLoader(validateset, batch_size=validateSize, shuffle=True)\r\n",
        "testloader = torch.utils.data.DataLoader(testset, batch_size=testSize, shuffle=True)"
      ],
      "execution_count": 33,
      "outputs": []
    },
    {
      "cell_type": "code",
      "metadata": {
        "colab": {
          "base_uri": "https://localhost:8080/"
        },
        "id": "NLjXv_TeyrOr",
        "outputId": "f308348f-e828-46de-ef4c-8b5a2104cfe3"
      },
      "source": [
        "#Reshape images from 4D into 2D arrays\r\n",
        "dataiter = iter(trainloader)\r\n",
        "images, labels = dataiter.next()\r\n",
        "images2 = images.reshape(images.shape[0],-1)\r\n",
        "\r\n",
        "print('Completed image transformation for training set')\r\n",
        "\r\n",
        "valiter = iter(validateloader)\r\n",
        "valimages, vallabels = valiter.next()\r\n",
        "valimages2 = valimages.reshape(valimages.shape[0],-1)\r\n",
        "\r\n",
        "print('Completed image transformation for validation set')\r\n",
        "\r\n",
        "testiter = iter(testloader)\r\n",
        "testimages, testlabels = testiter.next()\r\n",
        "testimages2 = testimages.reshape(testimages.shape[0],-1)\r\n",
        "\r\n",
        "print('Completed image transformation for test set')"
      ],
      "execution_count": 34,
      "outputs": [
        {
          "output_type": "stream",
          "text": [
            "Completed image transformation for training set\n",
            "Completed image transformation for validation set\n",
            "Completed image transformation for test set\n"
          ],
          "name": "stdout"
        }
      ]
    },
    {
      "cell_type": "code",
      "metadata": {
        "colab": {
          "base_uri": "https://localhost:8080/"
        },
        "id": "a0OlL3NKbiYy",
        "outputId": "cf01bcf5-d256-4209-fd66-e4fe141b2b31"
      },
      "source": [
        "#duplicate of below for testing\r\n",
        "for k in [1, 3, 5, 9, 15, 25, ]:\r\n",
        "  model = KNeighborsClassifier(n_neighbors=k)\r\n",
        "  \r\n",
        "  #Training Set\r\n",
        "  model.fit(images2, labels) \r\n",
        "\r\n",
        "  #Validation Set \r\n",
        "  model.fit(valimages2, vallabels) \r\n",
        "\r\n",
        "  score = model.score(valimages2, vallabels)\r\n",
        "  print(k, score) "
      ],
      "execution_count": 36,
      "outputs": [
        {
          "output_type": "stream",
          "text": [
            "1 1.0\n",
            "3 0.7355769230769231\n",
            "5 0.6730769230769231\n",
            "9 0.5721153846153846\n",
            "15 0.4807692307692308\n",
            "25 0.4855769230769231\n"
          ],
          "name": "stdout"
        }
      ]
    },
    {
      "cell_type": "code",
      "metadata": {
        "colab": {
          "base_uri": "https://localhost:8080/"
        },
        "id": "RcH5RsqkS5dg",
        "outputId": "7ff83bf3-e02e-4ccc-8737-5762df4ba5cd"
      },
      "source": [
        "#reload the training dataset into the model and compare it with the test dataset\r\n",
        "model = KNeighborsClassifier(n_neighbors=1)\r\n",
        "model.fit(images2, labels)\r\n",
        "\r\n",
        "model.fit(testimages2, testlabels) \r\n",
        "accuracy = model.score(testimages2, testlabels)\r\n",
        "\r\n",
        "print(\"Achieved accuracy of %.2f%% on test data\" % (accuracy*100))"
      ],
      "execution_count": 37,
      "outputs": [
        {
          "output_type": "stream",
          "text": [
            "Achieved accuracy of 100.00% on test data\n"
          ],
          "name": "stdout"
        }
      ]
    },
    {
      "cell_type": "code",
      "metadata": {
        "colab": {
          "base_uri": "https://localhost:8080/"
        },
        "id": "uZfiZMSpfzvK",
        "outputId": "d2e6d94a-58b4-40ff-b917-d3a6b5193b14"
      },
      "source": [
        "# show a final classification report demonstrating the accuracy of the classifier\r\n",
        "# for each of the digits\r\n",
        "label_names = ['f', 'j', 'k', 'l', 'm', 'n', 'o', 'x', 'y', 'z']\r\n",
        "predictions = model.predict(testimages2)\r\n",
        "print(\"Classification Report\")\r\n",
        "print(classification_report(testlabels, predictions, target_names=label_names))"
      ],
      "execution_count": 40,
      "outputs": [
        {
          "output_type": "stream",
          "text": [
            "Classification Report\n",
            "              precision    recall  f1-score   support\n",
            "\n",
            "           f       1.00      1.00      1.00       228\n",
            "           j       1.00      1.00      1.00       215\n",
            "           k       1.00      1.00      1.00       207\n",
            "           l       1.00      1.00      1.00       238\n",
            "           m       1.00      1.00      1.00       200\n",
            "           n       1.00      1.00      1.00       238\n",
            "           o       1.00      1.00      1.00       213\n",
            "           x       1.00      1.00      1.00       213\n",
            "           y       1.00      1.00      1.00       236\n",
            "           z       1.00      1.00      1.00       223\n",
            "\n",
            "    accuracy                           1.00      2211\n",
            "   macro avg       1.00      1.00      1.00      2211\n",
            "weighted avg       1.00      1.00      1.00      2211\n",
            "\n"
          ],
          "name": "stdout"
        }
      ]
    }
  ]
}