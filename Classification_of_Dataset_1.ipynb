{
  "nbformat": 4,
  "nbformat_minor": 0,
  "metadata": {
    "colab": {
      "name": "Classification of Dataset 1.ipynb",
      "provenance": [],
      "collapsed_sections": [],
      "authorship_tag": "ABX9TyMrTXRorL7oxhyd3CwsIkrC",
      "include_colab_link": true
    },
    "kernelspec": {
      "name": "python3",
      "display_name": "Python 3"
    }
  },
  "cells": [
    {
      "cell_type": "markdown",
      "metadata": {
        "id": "view-in-github",
        "colab_type": "text"
      },
      "source": [
        "<a href=\"https://colab.research.google.com/github/linaelsadek/ClassificationOverEncryptedImages/blob/main/Classification_of_Dataset_1.ipynb\" target=\"_parent\"><img src=\"https://colab.research.google.com/assets/colab-badge.svg\" alt=\"Open In Colab\"/></a>"
      ]
    },
    {
      "cell_type": "code",
      "metadata": {
        "id": "oI4TmqOrx6jF"
      },
      "source": [
        "!pip install tensorflow"
      ],
      "execution_count": null,
      "outputs": []
    },
    {
      "cell_type": "code",
      "metadata": {
        "colab": {
          "base_uri": "https://localhost:8080/"
        },
        "id": "2PnD7g-9zDm5",
        "outputId": "d99d727a-65cc-4359-ab4a-0b88f5965437"
      },
      "source": [
        "import tensorflow as tf\r\n",
        "print(tf.__version__)"
      ],
      "execution_count": 1,
      "outputs": [
        {
          "output_type": "stream",
          "text": [
            "2.4.1\n"
          ],
          "name": "stdout"
        }
      ]
    },
    {
      "cell_type": "code",
      "metadata": {
        "id": "bu-WiD3VTsG8"
      },
      "source": [
        "#Load libraries\r\n",
        "import torchvision\r\n",
        "import torch\r\n",
        "import matplotlib.pyplot as plt\r\n",
        "import numpy as np\r\n",
        "\r\n",
        "from torchvision import datasets, transforms\r\n",
        "from sklearn.neighbors import KNeighborsClassifier\r\n",
        "from sklearn.metrics import classification_report"
      ],
      "execution_count": 90,
      "outputs": []
    },
    {
      "cell_type": "code",
      "metadata": {
        "colab": {
          "base_uri": "https://localhost:8080/"
        },
        "id": "VpmN2dECLfVA",
        "outputId": "1ebe06b5-70fd-4a31-95c5-96475f6b4999"
      },
      "source": [
        "#mount google drive\r\n",
        "\r\n",
        "from google.colab import drive\r\n",
        "drive.mount('/content/drive')\r\n"
      ],
      "execution_count": 2,
      "outputs": [
        {
          "output_type": "stream",
          "text": [
            "Drive already mounted at /content/drive; to attempt to forcibly remount, call drive.mount(\"/content/drive\", force_remount=True).\n"
          ],
          "name": "stdout"
        }
      ]
    },
    {
      "cell_type": "code",
      "metadata": {
        "id": "bFWos1DEMrlQ"
      },
      "source": [
        "#import data\r\n",
        "train_data_path = ''\r\n",
        "validate_data_path = ''\r\n",
        "test_data_path = ''"
      ],
      "execution_count": 77,
      "outputs": []
    },
    {
      "cell_type": "code",
      "metadata": {
        "colab": {
          "base_uri": "https://localhost:8080/"
        },
        "id": "PJEQTK7PRVXG",
        "outputId": "f828f7c9-ce55-4c48-ff06-6f6a36fd90af"
      },
      "source": [
        "# transformations to be applied on images\r\n",
        "#normalize pixel values\r\n",
        "transform = transforms.Compose([transforms.ToTensor(),\r\n",
        "                              transforms.Normalize((0.5,), (0.5,)),\r\n",
        "                              ])\r\n",
        "\r\n",
        "# defining the training and testing set\r\n",
        "trainset = datasets.ImageFolder(train_data_path, transform=transform)\r\n",
        "#Note: for now, validation set is 2% of the training set, but have not deleted the images from\r\n",
        "#training, so there is 20-22 image overlap until we're sure we want to go with this way\r\n",
        "validateset = datasets.ImageFolder(validate_data_path, transform=transform) \r\n",
        "testset = datasets.ImageFolder(test_data_path, transform=transform)\r\n",
        "\r\n",
        "#print(trainset)\r\n",
        "#print(testset)"
      ],
      "execution_count": 78,
      "outputs": [
        {
          "output_type": "stream",
          "text": [
            "Dataset ImageFolder\n",
            "    Number of datapoints: 10541\n",
            "    Root location: /content/drive/MyDrive/CAS 771 - Big Data/Dataset 1/train/\n",
            "    StandardTransform\n",
            "Transform: Compose(\n",
            "               ToTensor()\n",
            "               Normalize(mean=(0.5,), std=(0.5,))\n",
            "           )\n",
            "Dataset ImageFolder\n",
            "    Number of datapoints: 2211\n",
            "    Root location: /content/drive/MyDrive/CAS 771 - Big Data/Dataset 1/test/\n",
            "    StandardTransform\n",
            "Transform: Compose(\n",
            "               ToTensor()\n",
            "               Normalize(mean=(0.5,), std=(0.5,))\n",
            "           )\n"
          ],
          "name": "stdout"
        }
      ]
    },
    {
      "cell_type": "code",
      "metadata": {
        "id": "MGDszV64bqCW"
      },
      "source": [
        "# defining datasets into iterable batches of defined sizes\r\n",
        "# we decided to have the entire set be defined in 1 batch since breaking the dataset into\r\n",
        "# smaller batches required us to use many loops throughout the process that ultimately impacted performance \r\n",
        "trainSize = len(trainset)\r\n",
        "validateSize = len(validateset)\r\n",
        "testSize = len(testset)\r\n",
        "\r\n",
        "trainloader = torch.utils.data.DataLoader(trainset, batch_size=trainsize, shuffle=True)\r\n",
        "validateloader = torch.utils.data.DataLoader(validateset, batch_size=validateSize, shuffle=True)\r\n",
        "testloader = torch.utils.data.DataLoader(testset, batch_size=testSize, shuffle=True)"
      ],
      "execution_count": 83,
      "outputs": []
    },
    {
      "cell_type": "code",
      "metadata": {
        "colab": {
          "base_uri": "https://localhost:8080/",
          "height": 285
        },
        "id": "FKKUlsrJTZG_",
        "outputId": "647ab3a6-f98f-442e-8f78-6783908a7981"
      },
      "source": [
        "# visualizing the training images\r\n",
        "plt.imshow(images[0][0].numpy().squeeze())"
      ],
      "execution_count": 88,
      "outputs": [
        {
          "output_type": "execute_result",
          "data": {
            "text/plain": [
              "<matplotlib.image.AxesImage at 0x7f9c3a062790>"
            ]
          },
          "metadata": {
            "tags": []
          },
          "execution_count": 88
        },
        {
          "output_type": "display_data",
          "data": {
            "image/png": "[encoded data removed]",
            "text/plain": [
              "<Figure size 432x288 with 1 Axes>"
            ]
          },
          "metadata": {
            "tags": [],
            "needs_background": "light"
          }
        }
      ]
    },
    {
      "cell_type": "code",
      "metadata": {
        "colab": {
          "base_uri": "https://localhost:8080/"
        },
        "id": "a0OlL3NKbiYy",
        "outputId": "93c1b4ce-c912-4659-bf0b-49dd8b99177a"
      },
      "source": [
        "#duplicate of below for testing\r\n",
        "for k in [1, 3, 5, 9, 15, 25, ]:\r\n",
        "  model = KNeighborsClassifier(n_neighbors=k)\r\n",
        "  \r\n",
        "  #Training Set\r\n",
        "  dataiter = iter(trainloader)\r\n",
        "  images, labels = dataiter.next()\r\n",
        "  images2 = images.reshape(images.shape[0],-1)\r\n",
        "  model.fit(images2, labels) \r\n",
        "\r\n",
        "  #Validation Set\r\n",
        "  valiter = iter(validateloader)\r\n",
        "  valimages, vallabels = valiter.next()\r\n",
        "  valimages2 = valimages.reshape(valimages.shape[0],-1)\r\n",
        "  model.fit(valimages2, vallabels) \r\n",
        "\r\n",
        "  score = model.score(valimages2, vallabels)\r\n",
        "  print(k, score) "
      ],
      "execution_count": 86,
      "outputs": [
        {
          "output_type": "stream",
          "text": [
            "1 1.0\n",
            "3 0.7355769230769231\n",
            "5 0.6730769230769231\n",
            "9 0.5721153846153846\n",
            "15 0.4807692307692308\n",
            "25 0.4855769230769231\n"
          ],
          "name": "stdout"
        }
      ]
    },
    {
      "cell_type": "code",
      "metadata": {
        "colab": {
          "base_uri": "https://localhost:8080/"
        },
        "id": "RcH5RsqkS5dg",
        "outputId": "4b0af315-ece3-4b6f-dd06-3ec99beac580"
      },
      "source": [
        "#reload the training dataset into the model and compare it with the test dataset\r\n",
        "model = KNeighborsClassifier(n_neighbors=1)\r\n",
        "model.fit(images2, labels)\r\n",
        "\r\n",
        "testiter = iter(testloader)\r\n",
        "testimages, testlabels = testiter.next()\r\n",
        "testimages2 = testimages.reshape(testimages.shape[0],-1)\r\n",
        "\r\n",
        "model.fit(testimages2, testlabels) \r\n",
        "accuracy = model.score(testimages2, testlabels)\r\n",
        "\r\n",
        "print(\"Achieved accuracy of %.2f%% on test data\" % (accuracy*100))"
      ],
      "execution_count": 87,
      "outputs": [
        {
          "output_type": "stream",
          "text": [
            "Achieved accuracy of 100.00% on test data\n"
          ],
          "name": "stdout"
        }
      ]
    },
    {
      "cell_type": "code",
      "metadata": {
        "colab": {
          "base_uri": "https://localhost:8080/"
        },
        "id": "uZfiZMSpfzvK",
        "outputId": "edb76a6c-ec49-4a01-a5d4-7ab3da278465"
      },
      "source": [
        "# show a final classification report demonstrating the accuracy of the classifier\r\n",
        "# for each of the digits\r\n",
        "predictions = model.predict(testimages2)\r\n",
        "print(\"Classification Report\")\r\n",
        "print(classification_report(testlabels, predictions))"
      ],
      "execution_count": 92,
      "outputs": [
        {
          "output_type": "stream",
          "text": [
            "Classification Report\n",
            "              precision    recall  f1-score   support\n",
            "\n",
            "           1       1.00      1.00      1.00       228\n",
            "           2       1.00      1.00      1.00       215\n",
            "           3       1.00      1.00      1.00       207\n",
            "           4       1.00      1.00      1.00       238\n",
            "           5       1.00      1.00      1.00       200\n",
            "           6       1.00      1.00      1.00       238\n",
            "           7       1.00      1.00      1.00       213\n",
            "           8       1.00      1.00      1.00       213\n",
            "           9       1.00      1.00      1.00       236\n",
            "          10       1.00      1.00      1.00       223\n",
            "\n",
            "    accuracy                           1.00      2211\n",
            "   macro avg       1.00      1.00      1.00      2211\n",
            "weighted avg       1.00      1.00      1.00      2211\n",
            "\n"
          ],
          "name": "stdout"
        }
      ]
    }
  ]
}